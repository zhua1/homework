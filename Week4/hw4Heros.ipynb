{
 "cells": [
  {
   "cell_type": "markdown",
   "metadata": {},
   "source": [
    "# Heroes Of Pymoli Data Analysis\n",
    "* Of the 1163 active players, the vast majority are male (82%). There also exists, a smaller, but notable proportion of female players (17%). The rest are undisclosed/others (1%).\n",
    "\n",
    "* Our peak age demographic falls between 20-24 (46%) with secondary groups falling between 15-19 (14%) and 25-29 (12%).\n",
    "\n",
    "* The most popular and profitable item purchased is \"Mourning Blade\" at a price of $3.64.\n",
    "-----"
   ]
  },
  {
   "cell_type": "code",
   "execution_count": 50,
   "metadata": {},
   "outputs": [
    {
     "name": "stdout",
     "output_type": "stream",
     "text": [
      "\n",
      "Make sure your input files (players_complete.csv, purchase_data_3.csv) are in this folder:\n",
      "\n",
      "C:\\Users\\meifl\\Desktop\\UCIRV201804DATA3-Class-Repository-DATA\\02-Homework\\04-Numpy-Pandas\\Generators\\HeroesOfPymoli\\generated_data\n"
     ]
    }
   ],
   "source": [
    "import os\n",
    "import pandas as pd\n",
    "\n",
    "os.chdir(os.path.join(os.environ[\"HOMEPATH\"], 'Desktop', 'UCIRV201804DATA3-Class-Repository-DATA', '02-Homework', '04-Numpy-Pandas', 'Generators', 'HeroesOfPymoli', 'generated_data'))\n",
    "print()\n",
    "print('Make sure your input files (players_complete.csv, purchase_data_3.csv) are in this folder:')\n",
    "print()\n",
    "print(os.getcwd())"
   ]
  },
  {
   "cell_type": "markdown",
   "metadata": {},
   "source": [
    "## Player Count"
   ]
  },
  {
   "cell_type": "code",
   "execution_count": 51,
   "metadata": {},
   "outputs": [
    {
     "data": {
      "text/html": [
       "<div>\n",
       "<style scoped>\n",
       "    .dataframe tbody tr th:only-of-type {\n",
       "        vertical-align: middle;\n",
       "    }\n",
       "\n",
       "    .dataframe tbody tr th {\n",
       "        vertical-align: top;\n",
       "    }\n",
       "\n",
       "    .dataframe thead th {\n",
       "        text-align: right;\n",
       "    }\n",
       "</style>\n",
       "<table border=\"1\" class=\"dataframe\">\n",
       "  <thead>\n",
       "    <tr style=\"text-align: right;\">\n",
       "      <th></th>\n",
       "      <th>Number of Players</th>\n",
       "    </tr>\n",
       "  </thead>\n",
       "  <tbody>\n",
       "    <tr>\n",
       "      <th>0</th>\n",
       "      <td>1163</td>\n",
       "    </tr>\n",
       "  </tbody>\n",
       "</table>\n",
       "</div>"
      ],
      "text/plain": [
       "   Number of Players\n",
       "0               1163"
      ]
     },
     "execution_count": 51,
     "metadata": {},
     "output_type": "execute_result"
    }
   ],
   "source": [
    "player = pd.read_csv('players_complete.csv')\n",
    "# Read in player csv and find # of players\n",
    "playerNum = player.shape[0]\n",
    "pd.DataFrame({'Number of Players': [playerNum]})"
   ]
  },
  {
   "cell_type": "markdown",
   "metadata": {},
   "source": [
    "## Purchasing Analysis (Total)"
   ]
  },
  {
   "cell_type": "code",
   "execution_count": 52,
   "metadata": {
    "scrolled": true
   },
   "outputs": [
    {
     "data": {
      "text/html": [
       "<div>\n",
       "<style scoped>\n",
       "    .dataframe tbody tr th:only-of-type {\n",
       "        vertical-align: middle;\n",
       "    }\n",
       "\n",
       "    .dataframe tbody tr th {\n",
       "        vertical-align: top;\n",
       "    }\n",
       "\n",
       "    .dataframe thead th {\n",
       "        text-align: right;\n",
       "    }\n",
       "</style>\n",
       "<table border=\"1\" class=\"dataframe\">\n",
       "  <thead>\n",
       "    <tr style=\"text-align: right;\">\n",
       "      <th></th>\n",
       "      <th>Average Price</th>\n",
       "      <th>Number of Purchases</th>\n",
       "      <th>Number of Unique Items</th>\n",
       "      <th>Total Revenue</th>\n",
       "    </tr>\n",
       "  </thead>\n",
       "  <tbody>\n",
       "    <tr>\n",
       "      <th>0</th>\n",
       "      <td>$2.92</td>\n",
       "      <td>78</td>\n",
       "      <td>64</td>\n",
       "      <td>$228.10</td>\n",
       "    </tr>\n",
       "  </tbody>\n",
       "</table>\n",
       "</div>"
      ],
      "text/plain": [
       "  Average Price  Number of Purchases  Number of Unique Items Total Revenue\n",
       "0         $2.92                   78                      64       $228.10"
      ]
     },
     "execution_count": 52,
     "metadata": {},
     "output_type": "execute_result"
    }
   ],
   "source": [
    "purchase = pd.read_csv('purchase_data_3.csv')\n",
    "# Get number of unique items\n",
    "unique_item = len(purchase['Item ID'].unique())\n",
    "# Get average price\n",
    "average_price = purchase.Price.sum() / purchase.shape[0]\n",
    "# Get number of purchases\n",
    "purchases = purchase.shape[0]\n",
    "# Get total revenue\n",
    "revenue = purchase.Price.sum()\n",
    "\n",
    "pd.DataFrame({'Number of Unique Items': [unique_item],\n",
    "             'Average Price': ['${:,.2f}'.format(average_price)],\n",
    "             'Number of Purchases': [purchases],\n",
    "             'Total Revenue': ['${:,.2f}'.format(revenue)]})"
   ]
  },
  {
   "cell_type": "markdown",
   "metadata": {},
   "source": [
    "## Gender Demographics"
   ]
  },
  {
   "cell_type": "code",
   "execution_count": 53,
   "metadata": {},
   "outputs": [
    {
     "data": {
      "text/html": [
       "<div>\n",
       "<style scoped>\n",
       "    .dataframe tbody tr th:only-of-type {\n",
       "        vertical-align: middle;\n",
       "    }\n",
       "\n",
       "    .dataframe tbody tr th {\n",
       "        vertical-align: top;\n",
       "    }\n",
       "\n",
       "    .dataframe thead th {\n",
       "        text-align: right;\n",
       "    }\n",
       "</style>\n",
       "<table border=\"1\" class=\"dataframe\">\n",
       "  <thead>\n",
       "    <tr style=\"text-align: right;\">\n",
       "      <th></th>\n",
       "      <th>Percentage of Players</th>\n",
       "      <th>Total Count</th>\n",
       "    </tr>\n",
       "    <tr>\n",
       "      <th></th>\n",
       "      <th></th>\n",
       "      <th></th>\n",
       "    </tr>\n",
       "  </thead>\n",
       "  <tbody>\n",
       "    <tr>\n",
       "      <th>Male</th>\n",
       "      <td>0.820513</td>\n",
       "      <td>64</td>\n",
       "    </tr>\n",
       "    <tr>\n",
       "      <th>Female</th>\n",
       "      <td>0.166667</td>\n",
       "      <td>13</td>\n",
       "    </tr>\n",
       "    <tr>\n",
       "      <th>Other / Non-Disclosed</th>\n",
       "      <td>0.012821</td>\n",
       "      <td>1</td>\n",
       "    </tr>\n",
       "  </tbody>\n",
       "</table>\n",
       "</div>"
      ],
      "text/plain": [
       "                       Percentage of Players  Total Count\n",
       "                                                         \n",
       "Male                                0.820513           64\n",
       "Female                              0.166667           13\n",
       "Other / Non-Disclosed               0.012821            1"
      ]
     },
     "execution_count": 53,
     "metadata": {},
     "output_type": "execute_result"
    }
   ],
   "source": [
    "# Groupby gender and get counts\n",
    "total_count = purchase.groupby('Gender').count().iloc[:,0]\n",
    "percentage = total_count / sum(total_count)\n",
    "# Put in dataframe\n",
    "df = pd.DataFrame({'Percentage of Players': percentage,\n",
    "              'Total Count': total_count}).sort_values('Total Count', ascending = False)\n",
    "df.index.name = ''\n",
    "df"
   ]
  },
  {
   "cell_type": "markdown",
   "metadata": {},
   "source": [
    "\n",
    "## Purchasing Analysis (Gender)"
   ]
  },
  {
   "cell_type": "code",
   "execution_count": 55,
   "metadata": {},
   "outputs": [
    {
     "data": {
      "text/html": [
       "<div>\n",
       "<style scoped>\n",
       "    .dataframe tbody tr th:only-of-type {\n",
       "        vertical-align: middle;\n",
       "    }\n",
       "\n",
       "    .dataframe tbody tr th {\n",
       "        vertical-align: top;\n",
       "    }\n",
       "\n",
       "    .dataframe thead th {\n",
       "        text-align: right;\n",
       "    }\n",
       "</style>\n",
       "<table border=\"1\" class=\"dataframe\">\n",
       "  <thead>\n",
       "    <tr style=\"text-align: right;\">\n",
       "      <th></th>\n",
       "      <th>Purchase Count</th>\n",
       "      <th>Average Purchase Price</th>\n",
       "      <th>Total Purchase Value</th>\n",
       "    </tr>\n",
       "    <tr>\n",
       "      <th>Gender</th>\n",
       "      <th></th>\n",
       "      <th></th>\n",
       "      <th></th>\n",
       "    </tr>\n",
       "  </thead>\n",
       "  <tbody>\n",
       "    <tr>\n",
       "      <th>Female</th>\n",
       "      <td>13</td>\n",
       "      <td>$3.18</td>\n",
       "      <td>$41.38</td>\n",
       "    </tr>\n",
       "    <tr>\n",
       "      <th>Male</th>\n",
       "      <td>64</td>\n",
       "      <td>$2.88</td>\n",
       "      <td>$184.60</td>\n",
       "    </tr>\n",
       "    <tr>\n",
       "      <th>Other / Non-Disclosed</th>\n",
       "      <td>1</td>\n",
       "      <td>$2.12</td>\n",
       "      <td>$2.12</td>\n",
       "    </tr>\n",
       "  </tbody>\n",
       "</table>\n",
       "</div>"
      ],
      "text/plain": [
       "                       Purchase Count Average Purchase Price  \\\n",
       "Gender                                                         \n",
       "Female                             13                  $3.18   \n",
       "Male                               64                  $2.88   \n",
       "Other / Non-Disclosed               1                  $2.12   \n",
       "\n",
       "                      Total Purchase Value  \n",
       "Gender                                      \n",
       "Female                              $41.38  \n",
       "Male                               $184.60  \n",
       "Other / Non-Disclosed                $2.12  "
      ]
     },
     "execution_count": 55,
     "metadata": {},
     "output_type": "execute_result"
    }
   ],
   "source": [
    "purchase_value = purchase.groupby('Gender').sum()['Price']\n",
    "average_purchase = purchase_value / total_count\n",
    "\n",
    "df2 = pd.DataFrame({'Purchase Count': total_count,\n",
    "              'Average Purchase Price': average_purchase.map('${:,.2f}'.format),\n",
    "              'Total Purchase Value': purchase_value.map('${:,.2f}'.format)})\n",
    "              #'Normalized Totals': [0, 0, 0]})\n",
    "df2 = df2[['Purchase Count', 'Average Purchase Price', 'Total Purchase Value']] \n",
    "           #'Normalized Totals']]\n",
    "df2"
   ]
  },
  {
   "cell_type": "markdown",
   "metadata": {},
   "source": [
    "## Age Demographics"
   ]
  },
  {
   "cell_type": "code",
   "execution_count": 56,
   "metadata": {},
   "outputs": [
    {
     "data": {
      "text/html": [
       "<div>\n",
       "<style scoped>\n",
       "    .dataframe tbody tr th:only-of-type {\n",
       "        vertical-align: middle;\n",
       "    }\n",
       "\n",
       "    .dataframe tbody tr th {\n",
       "        vertical-align: top;\n",
       "    }\n",
       "\n",
       "    .dataframe thead th {\n",
       "        text-align: right;\n",
       "    }\n",
       "</style>\n",
       "<table border=\"1\" class=\"dataframe\">\n",
       "  <thead>\n",
       "    <tr style=\"text-align: right;\">\n",
       "      <th></th>\n",
       "      <th>Percentage of Players</th>\n",
       "      <th>Total Count</th>\n",
       "    </tr>\n",
       "  </thead>\n",
       "  <tbody>\n",
       "    <tr>\n",
       "      <th>&lt;10</th>\n",
       "      <td>0.06</td>\n",
       "      <td>5</td>\n",
       "    </tr>\n",
       "    <tr>\n",
       "      <th>10-14</th>\n",
       "      <td>0.04</td>\n",
       "      <td>3</td>\n",
       "    </tr>\n",
       "    <tr>\n",
       "      <th>15-19</th>\n",
       "      <td>0.14</td>\n",
       "      <td>11</td>\n",
       "    </tr>\n",
       "    <tr>\n",
       "      <th>20-24</th>\n",
       "      <td>0.46</td>\n",
       "      <td>36</td>\n",
       "    </tr>\n",
       "    <tr>\n",
       "      <th>25-29</th>\n",
       "      <td>0.12</td>\n",
       "      <td>9</td>\n",
       "    </tr>\n",
       "    <tr>\n",
       "      <th>30-34</th>\n",
       "      <td>0.09</td>\n",
       "      <td>7</td>\n",
       "    </tr>\n",
       "    <tr>\n",
       "      <th>35-39</th>\n",
       "      <td>0.08</td>\n",
       "      <td>6</td>\n",
       "    </tr>\n",
       "    <tr>\n",
       "      <th>+40</th>\n",
       "      <td>0.01</td>\n",
       "      <td>1</td>\n",
       "    </tr>\n",
       "  </tbody>\n",
       "</table>\n",
       "</div>"
      ],
      "text/plain": [
       "       Percentage of Players  Total Count\n",
       "<10                     0.06            5\n",
       "10-14                   0.04            3\n",
       "15-19                   0.14           11\n",
       "20-24                   0.46           36\n",
       "25-29                   0.12            9\n",
       "30-34                   0.09            7\n",
       "35-39                   0.08            6\n",
       "+40                     0.01            1"
      ]
     },
     "execution_count": 56,
     "metadata": {},
     "output_type": "execute_result"
    }
   ],
   "source": [
    "# Get age bin dataframe\n",
    "bins = [0, 10, 14, 19, 24, 29, 34, 39, 40]\n",
    "labels = ['<10', '10-14', '15-19', '20-24', '25-29', '30-34', '35-39', '+40']\n",
    "df3 = pd.cut(purchase['Age'], bins=bins, labels=labels).to_frame().Age.value_counts(sort = False).to_frame()\n",
    "df3['Percentage'] = round(df3.Age / df3.Age.sum(), 2)\n",
    "df3.columns = ['Total Count', 'Percentage of Players']\n",
    "df3 = df3[['Percentage of Players', 'Total Count']]\n",
    "df3"
   ]
  },
  {
   "cell_type": "markdown",
   "metadata": {},
   "source": [
    "## Purchasing Analysis (Age)"
   ]
  },
  {
   "cell_type": "code",
   "execution_count": 57,
   "metadata": {},
   "outputs": [
    {
     "data": {
      "text/html": [
       "<div>\n",
       "<style scoped>\n",
       "    .dataframe tbody tr th:only-of-type {\n",
       "        vertical-align: middle;\n",
       "    }\n",
       "\n",
       "    .dataframe tbody tr th {\n",
       "        vertical-align: top;\n",
       "    }\n",
       "\n",
       "    .dataframe thead th {\n",
       "        text-align: right;\n",
       "    }\n",
       "</style>\n",
       "<table border=\"1\" class=\"dataframe\">\n",
       "  <thead>\n",
       "    <tr style=\"text-align: right;\">\n",
       "      <th></th>\n",
       "      <th>Purchase Count</th>\n",
       "      <th>Average Purchase Price</th>\n",
       "      <th>Total Purchase Value</th>\n",
       "    </tr>\n",
       "  </thead>\n",
       "  <tbody>\n",
       "    <tr>\n",
       "      <th>&lt;10</th>\n",
       "      <td>5</td>\n",
       "      <td>$2.76</td>\n",
       "      <td>$13.82</td>\n",
       "    </tr>\n",
       "    <tr>\n",
       "      <th>10-14</th>\n",
       "      <td>3</td>\n",
       "      <td>$2.99</td>\n",
       "      <td>$8.96</td>\n",
       "    </tr>\n",
       "    <tr>\n",
       "      <th>15-19</th>\n",
       "      <td>11</td>\n",
       "      <td>$2.76</td>\n",
       "      <td>$30.41</td>\n",
       "    </tr>\n",
       "    <tr>\n",
       "      <th>20-24</th>\n",
       "      <td>36</td>\n",
       "      <td>$3.02</td>\n",
       "      <td>$108.89</td>\n",
       "    </tr>\n",
       "    <tr>\n",
       "      <th>25-29</th>\n",
       "      <td>9</td>\n",
       "      <td>$2.90</td>\n",
       "      <td>$26.11</td>\n",
       "    </tr>\n",
       "    <tr>\n",
       "      <th>30-34</th>\n",
       "      <td>7</td>\n",
       "      <td>$1.98</td>\n",
       "      <td>$13.89</td>\n",
       "    </tr>\n",
       "    <tr>\n",
       "      <th>35-39</th>\n",
       "      <td>6</td>\n",
       "      <td>$3.56</td>\n",
       "      <td>$21.37</td>\n",
       "    </tr>\n",
       "    <tr>\n",
       "      <th>+40</th>\n",
       "      <td>1</td>\n",
       "      <td>$4.65</td>\n",
       "      <td>$4.65</td>\n",
       "    </tr>\n",
       "  </tbody>\n",
       "</table>\n",
       "</div>"
      ],
      "text/plain": [
       "       Purchase Count Average Purchase Price Total Purchase Value\n",
       "<10                 5                  $2.76               $13.82\n",
       "10-14               3                  $2.99                $8.96\n",
       "15-19              11                  $2.76               $30.41\n",
       "20-24              36                  $3.02              $108.89\n",
       "25-29               9                  $2.90               $26.11\n",
       "30-34               7                  $1.98               $13.89\n",
       "35-39               6                  $3.56               $21.37\n",
       "+40                 1                  $4.65                $4.65"
      ]
     },
     "execution_count": 57,
     "metadata": {},
     "output_type": "execute_result"
    }
   ],
   "source": [
    "df4 = pd.cut(purchase['Age'], bins=bins, labels=labels).to_frame().Age.value_counts(sort = False).to_frame()\n",
    "df4.columns = ['Purchase Count']\n",
    "df4['Total Purchase Value'] = purchase.groupby(pd.cut(purchase['Age'], bins=bins, labels=labels)).sum()['Price']\n",
    "df4['Average Purchase Price'] = (df4['Total Purchase Value'] / df4['Purchase Count']).map('${:,.2f}'.format)\n",
    "df4['Total Purchase Value'] = df4['Total Purchase Value'].map('${:,.2f}'.format)\n",
    "#df4['Normalized Totals'] = 0\n",
    "df4 = df4.iloc[:, [0,2,1]]\n",
    "df4"
   ]
  },
  {
   "cell_type": "markdown",
   "metadata": {},
   "source": [
    "## Top Spenders"
   ]
  },
  {
   "cell_type": "code",
   "execution_count": 58,
   "metadata": {},
   "outputs": [
    {
     "data": {
      "text/html": [
       "<div>\n",
       "<style scoped>\n",
       "    .dataframe tbody tr th:only-of-type {\n",
       "        vertical-align: middle;\n",
       "    }\n",
       "\n",
       "    .dataframe tbody tr th {\n",
       "        vertical-align: top;\n",
       "    }\n",
       "\n",
       "    .dataframe thead th {\n",
       "        text-align: right;\n",
       "    }\n",
       "</style>\n",
       "<table border=\"1\" class=\"dataframe\">\n",
       "  <thead>\n",
       "    <tr style=\"text-align: right;\">\n",
       "      <th></th>\n",
       "      <th>Purchase Count</th>\n",
       "      <th>Average Purchase Price</th>\n",
       "      <th>Total Purchase Value</th>\n",
       "    </tr>\n",
       "    <tr>\n",
       "      <th>SN</th>\n",
       "      <th></th>\n",
       "      <th></th>\n",
       "      <th></th>\n",
       "    </tr>\n",
       "  </thead>\n",
       "  <tbody>\n",
       "    <tr>\n",
       "      <th>Sundaky74</th>\n",
       "      <td>2</td>\n",
       "      <td>$3.71</td>\n",
       "      <td>$7.41</td>\n",
       "    </tr>\n",
       "    <tr>\n",
       "      <th>Aidaira26</th>\n",
       "      <td>2</td>\n",
       "      <td>$2.56</td>\n",
       "      <td>$5.13</td>\n",
       "    </tr>\n",
       "    <tr>\n",
       "      <th>Eusty71</th>\n",
       "      <td>1</td>\n",
       "      <td>$4.81</td>\n",
       "      <td>$4.81</td>\n",
       "    </tr>\n",
       "    <tr>\n",
       "      <th>Chanirra64</th>\n",
       "      <td>1</td>\n",
       "      <td>$4.78</td>\n",
       "      <td>$4.78</td>\n",
       "    </tr>\n",
       "    <tr>\n",
       "      <th>Alarap40</th>\n",
       "      <td>1</td>\n",
       "      <td>$4.71</td>\n",
       "      <td>$4.71</td>\n",
       "    </tr>\n",
       "  </tbody>\n",
       "</table>\n",
       "</div>"
      ],
      "text/plain": [
       "            Purchase Count Average Purchase Price Total Purchase Value\n",
       "SN                                                                    \n",
       "Sundaky74                2                  $3.71                $7.41\n",
       "Aidaira26                2                  $2.56                $5.13\n",
       "Eusty71                  1                  $4.81                $4.81\n",
       "Chanirra64               1                  $4.78                $4.78\n",
       "Alarap40                 1                  $4.71                $4.71"
      ]
     },
     "execution_count": 58,
     "metadata": {},
     "output_type": "execute_result"
    }
   ],
   "source": [
    "df5 = purchase.groupby('SN')['Price'].sum().sort_values(ascending = False).to_frame()\n",
    "df5.columns = ['Total Purchase Value']\n",
    "df5['Purchase Count'] = purchase.groupby('SN')['SN'].count()\n",
    "df5['Average Purchase Price'] = (df5['Total Purchase Value'] / df5['Purchase Count']).map('${:,.2f}'.format)\n",
    "df5['Total Purchase Value'] = df5['Total Purchase Value'].map('${:,.2f}'.format)\n",
    "df5 = df5.iloc[:, [1,2,0]]\n",
    "df5.head()"
   ]
  },
  {
   "cell_type": "markdown",
   "metadata": {},
   "source": [
    "## Most Popular Items"
   ]
  },
  {
   "cell_type": "code",
   "execution_count": 59,
   "metadata": {},
   "outputs": [
    {
     "data": {
      "text/html": [
       "<div>\n",
       "<style scoped>\n",
       "    .dataframe tbody tr th:only-of-type {\n",
       "        vertical-align: middle;\n",
       "    }\n",
       "\n",
       "    .dataframe tbody tr th {\n",
       "        vertical-align: top;\n",
       "    }\n",
       "\n",
       "    .dataframe thead th {\n",
       "        text-align: right;\n",
       "    }\n",
       "</style>\n",
       "<table border=\"1\" class=\"dataframe\">\n",
       "  <thead>\n",
       "    <tr style=\"text-align: right;\">\n",
       "      <th></th>\n",
       "      <th></th>\n",
       "      <th>Purchase Count</th>\n",
       "      <th>Item Price</th>\n",
       "      <th>Total Purchase Value</th>\n",
       "    </tr>\n",
       "    <tr>\n",
       "      <th>Item ID</th>\n",
       "      <th>Item Name</th>\n",
       "      <th></th>\n",
       "      <th></th>\n",
       "      <th></th>\n",
       "    </tr>\n",
       "  </thead>\n",
       "  <tbody>\n",
       "    <tr>\n",
       "      <th>94</th>\n",
       "      <th>Mourning Blade</th>\n",
       "      <td>3</td>\n",
       "      <td>$3.64</td>\n",
       "      <td>$10.92</td>\n",
       "    </tr>\n",
       "    <tr>\n",
       "      <th>98</th>\n",
       "      <th>Deadline, Voice Of Subtlety</th>\n",
       "      <td>2</td>\n",
       "      <td>$1.29</td>\n",
       "      <td>$2.58</td>\n",
       "    </tr>\n",
       "    <tr>\n",
       "      <th>117</th>\n",
       "      <th>Heartstriker, Legacy of the Light</th>\n",
       "      <td>2</td>\n",
       "      <td>$4.71</td>\n",
       "      <td>$9.42</td>\n",
       "    </tr>\n",
       "    <tr>\n",
       "      <th>111</th>\n",
       "      <th>Misery's End</th>\n",
       "      <td>2</td>\n",
       "      <td>$1.79</td>\n",
       "      <td>$3.58</td>\n",
       "    </tr>\n",
       "    <tr>\n",
       "      <th>154</th>\n",
       "      <th>Feral Katana</th>\n",
       "      <td>2</td>\n",
       "      <td>$4.11</td>\n",
       "      <td>$8.22</td>\n",
       "    </tr>\n",
       "  </tbody>\n",
       "</table>\n",
       "</div>"
      ],
      "text/plain": [
       "                                           Purchase Count Item Price  \\\n",
       "Item ID Item Name                                                      \n",
       "94      Mourning Blade                                  3      $3.64   \n",
       "98      Deadline, Voice Of Subtlety                     2      $1.29   \n",
       "117     Heartstriker, Legacy of the Light               2      $4.71   \n",
       "111     Misery's End                                    2      $1.79   \n",
       "154     Feral Katana                                    2      $4.11   \n",
       "\n",
       "                                          Total Purchase Value  \n",
       "Item ID Item Name                                               \n",
       "94      Mourning Blade                                  $10.92  \n",
       "98      Deadline, Voice Of Subtlety                      $2.58  \n",
       "117     Heartstriker, Legacy of the Light                $9.42  \n",
       "111     Misery's End                                     $3.58  \n",
       "154     Feral Katana                                     $8.22  "
      ]
     },
     "execution_count": 59,
     "metadata": {},
     "output_type": "execute_result"
    }
   ],
   "source": [
    "df6 = purchase.groupby(['Item ID', 'Item Name'])['Item ID'].count().sort_values(ascending = False).to_frame()\n",
    "df6.columns = ['Purchase Count']\n",
    "df6['Total Purchase Value'] = purchase.groupby(['Item ID', 'Item Name'])['Price'].sum()\n",
    "df6['Item Price'] = (df6['Total Purchase Value'] / df6['Purchase Count']).map('${:,.2f}'.format)\n",
    "df6['Total Purchase Value'] = df6['Total Purchase Value'].map('${:,.2f}'.format)\n",
    "df6 = df6.iloc[:, [0,2,1]]\n",
    "df6.head()"
   ]
  },
  {
   "cell_type": "markdown",
   "metadata": {},
   "source": [
    "## Most Profitable Items"
   ]
  },
  {
   "cell_type": "code",
   "execution_count": 60,
   "metadata": {
    "scrolled": true
   },
   "outputs": [
    {
     "data": {
      "text/html": [
       "<div>\n",
       "<style scoped>\n",
       "    .dataframe tbody tr th:only-of-type {\n",
       "        vertical-align: middle;\n",
       "    }\n",
       "\n",
       "    .dataframe tbody tr th {\n",
       "        vertical-align: top;\n",
       "    }\n",
       "\n",
       "    .dataframe thead th {\n",
       "        text-align: right;\n",
       "    }\n",
       "</style>\n",
       "<table border=\"1\" class=\"dataframe\">\n",
       "  <thead>\n",
       "    <tr style=\"text-align: right;\">\n",
       "      <th></th>\n",
       "      <th></th>\n",
       "      <th>Purchase Count</th>\n",
       "      <th>Item Price</th>\n",
       "      <th>Total Purchase Value</th>\n",
       "    </tr>\n",
       "    <tr>\n",
       "      <th>Item ID</th>\n",
       "      <th>Item Name</th>\n",
       "      <th></th>\n",
       "      <th></th>\n",
       "      <th></th>\n",
       "    </tr>\n",
       "  </thead>\n",
       "  <tbody>\n",
       "    <tr>\n",
       "      <th>94</th>\n",
       "      <th>Mourning Blade</th>\n",
       "      <td>3</td>\n",
       "      <td>$3.64</td>\n",
       "      <td>$10.92</td>\n",
       "    </tr>\n",
       "    <tr>\n",
       "      <th>117</th>\n",
       "      <th>Heartstriker, Legacy of the Light</th>\n",
       "      <td>2</td>\n",
       "      <td>$4.71</td>\n",
       "      <td>$9.42</td>\n",
       "    </tr>\n",
       "    <tr>\n",
       "      <th>93</th>\n",
       "      <th>Apocalyptic Battlescythe</th>\n",
       "      <td>2</td>\n",
       "      <td>$4.49</td>\n",
       "      <td>$8.98</td>\n",
       "    </tr>\n",
       "    <tr>\n",
       "      <th>90</th>\n",
       "      <th>Betrayer</th>\n",
       "      <td>2</td>\n",
       "      <td>$4.12</td>\n",
       "      <td>$8.24</td>\n",
       "    </tr>\n",
       "    <tr>\n",
       "      <th>154</th>\n",
       "      <th>Feral Katana</th>\n",
       "      <td>2</td>\n",
       "      <td>$4.11</td>\n",
       "      <td>$8.22</td>\n",
       "    </tr>\n",
       "  </tbody>\n",
       "</table>\n",
       "</div>"
      ],
      "text/plain": [
       "                                           Purchase Count Item Price  \\\n",
       "Item ID Item Name                                                      \n",
       "94      Mourning Blade                                  3      $3.64   \n",
       "117     Heartstriker, Legacy of the Light               2      $4.71   \n",
       "93      Apocalyptic Battlescythe                        2      $4.49   \n",
       "90      Betrayer                                        2      $4.12   \n",
       "154     Feral Katana                                    2      $4.11   \n",
       "\n",
       "                                          Total Purchase Value  \n",
       "Item ID Item Name                                               \n",
       "94      Mourning Blade                                  $10.92  \n",
       "117     Heartstriker, Legacy of the Light                $9.42  \n",
       "93      Apocalyptic Battlescythe                         $8.98  \n",
       "90      Betrayer                                         $8.24  \n",
       "154     Feral Katana                                     $8.22  "
      ]
     },
     "execution_count": 60,
     "metadata": {},
     "output_type": "execute_result"
    }
   ],
   "source": [
    "df7 = purchase.groupby(['Item ID', 'Item Name'])['Price'].sum().sort_values(ascending = False).to_frame()\n",
    "df7.columns = ['Total Purchase Value']\n",
    "df7['Purchase Count'] = purchase.groupby(['Item ID', 'Item Name'])['Item ID'].count()\n",
    "df7['Item Price'] = (df7['Total Purchase Value'] / df7['Purchase Count']).map('${:,.2f}'.format)\n",
    "df7['Total Purchase Value'] = df7['Total Purchase Value'].map('${:,.2f}'.format)\n",
    "df7 = df7.iloc[:, [1,2,0]]\n",
    "df7.head()"
   ]
  }
 ],
 "metadata": {
  "anaconda-cloud": {},
  "kernelspec": {
   "display_name": "Python 3",
   "language": "python",
   "name": "python3"
  },
  "language_info": {
   "codemirror_mode": {
    "name": "ipython",
    "version": 3
   },
   "file_extension": ".py",
   "mimetype": "text/x-python",
   "name": "python",
   "nbconvert_exporter": "python",
   "pygments_lexer": "ipython3",
   "version": "3.6.4"
  },
  "nteract": {
   "version": "0.8.4"
  },
  "varInspector": {
   "cols": {
    "lenName": 16,
    "lenType": 16,
    "lenVar": 40
   },
   "kernels_config": {
    "python": {
     "delete_cmd_postfix": "",
     "delete_cmd_prefix": "del ",
     "library": "var_list.py",
     "varRefreshCmd": "print(var_dic_list())"
    },
    "r": {
     "delete_cmd_postfix": ") ",
     "delete_cmd_prefix": "rm(",
     "library": "var_list.r",
     "varRefreshCmd": "cat(var_dic_list()) "
    }
   },
   "types_to_exclude": [
    "module",
    "function",
    "builtin_function_or_method",
    "instance",
    "_Feature"
   ],
   "window_display": false
  }
 },
 "nbformat": 4,
 "nbformat_minor": 1
}
