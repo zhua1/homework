{
 "cells": [
  {
   "cell_type": "code",
   "execution_count": 1,
   "metadata": {},
   "outputs": [],
   "source": [
    "import requests\n",
    "import re"
   ]
  },
  {
   "cell_type": "code",
   "execution_count": 2,
   "metadata": {},
   "outputs": [],
   "source": [
    "words = requests.get('https://mars.nasa.gov/news').text\n",
    "data = re.split(\"<a href='/news/\", words)[1]\n",
    "title = re.split(\"'\", re.split(\"</div>\\n<img alt='\", data)[1])[0]\n",
    "paragraph = re.split(\" \\n</div>\\n<div class='overlay_arrow'>\", re.split(\"<div class='rollover_description_inner'>\\n\", data)[1])[0]\n",
    "if \"&quot;\" in paragraph:\n",
    "    paragraph = re.sub(\"&quot;\", r'\"', paragraph)\n",
    "img = re.split(\"-\", re.split(\"_\", re.split(\"' src=\", re.split(\"/system/news_items/list_view_images/\", data)[1])[0])[1])[0]\n",
    "image_url = f'https://www.jpl.nasa.gov/spaceimages/images/largesize/{img}_hires.jpg'\n",
    "\n",
    "weather = requests.get('https://twitter.com/marswxreport').text\n",
    "\n",
    "mar_weather = 'Sol' + re.split('</p>\\n</div>', weather.split('<p class=\"TweetTextSize TweetTextSize--normal js-tweet-text tweet-text\" lang=\"en\" data-aria-label-part=\"0\">Sol')[1])[0]\n",
    "\n",
    "if \"&quot;\" in mar_weather:\n",
    "    mar_weather = re.sub(\"&quot;\", r'\"', mar_weather)"
   ]
  },
  {
   "cell_type": "code",
   "execution_count": 3,
   "metadata": {},
   "outputs": [
    {
     "data": {
      "text/plain": [
       "'Opportunity Hunkers Down During Dust Storm'"
      ]
     },
     "execution_count": 3,
     "metadata": {},
     "output_type": "execute_result"
    }
   ],
   "source": [
    "title"
   ]
  },
  {
   "cell_type": "code",
   "execution_count": 4,
   "metadata": {},
   "outputs": [
    {
     "data": {
      "text/plain": [
       "'As of Tuesday morning, June 19, the Martian dust storm had grown in size and was officially a \"planet-encircling\" (or \"global\") dust event.'"
      ]
     },
     "execution_count": 4,
     "metadata": {},
     "output_type": "execute_result"
    }
   ],
   "source": [
    "paragraph"
   ]
  },
  {
   "cell_type": "code",
   "execution_count": 5,
   "metadata": {},
   "outputs": [
    {
     "data": {
      "text/plain": [
       "'Sol 2108 (2018-07-12), Sunny, high -24C/-11F, low -65C/-84F, pressure at 8.06 hPa, daylight 05:19-17:27'"
      ]
     },
     "execution_count": 5,
     "metadata": {},
     "output_type": "execute_result"
    }
   ],
   "source": [
    "mar_weather"
   ]
  }
 ],
 "metadata": {
  "kernelspec": {
   "display_name": "Python 3",
   "language": "python",
   "name": "python3"
  },
  "language_info": {
   "codemirror_mode": {
    "name": "ipython",
    "version": 3
   },
   "file_extension": ".py",
   "mimetype": "text/x-python",
   "name": "python",
   "nbconvert_exporter": "python",
   "pygments_lexer": "ipython3",
   "version": "3.6.4"
  }
 },
 "nbformat": 4,
 "nbformat_minor": 2
}
